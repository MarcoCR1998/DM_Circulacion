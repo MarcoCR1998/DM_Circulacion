{
  "nbformat": 4,
  "nbformat_minor": 0,
  "metadata": {
    "colab": {
      "provenance": [],
      "authorship_tag": "ABX9TyPSTHE9CniFmkBKFhUsz5H2",
      "include_colab_link": true
    },
    "kernelspec": {
      "name": "python3",
      "display_name": "Python 3"
    },
    "language_info": {
      "name": "python"
    }
  },
  "cells": [
    {
      "cell_type": "markdown",
      "metadata": {
        "id": "view-in-github",
        "colab_type": "text"
      },
      "source": [
        "<a href=\"https://colab.research.google.com/github/MarcoCR1998/DM_Circulacion/blob/main/An%C3%A1lisis_de_Sesgo_y_Equidad_Documentaci%C3%B3n_de_proyecto_de_optimizaci%C3%B3n.ipynb\" target=\"_parent\"><img src=\"https://colab.research.google.com/assets/colab-badge.svg\" alt=\"Open In Colab\"/></a>"
      ]
    },
    {
      "cell_type": "markdown",
      "source": [
        "##**Evaluación y Resultados**"
      ],
      "metadata": {
        "id": "NAlZSAZALhBx"
      }
    },
    {
      "cell_type": "markdown",
      "source": [
        "**Análisis de Sesgo y Equidad**\n",
        "\n",
        "\n",
        "1.   **Posibles Sesgos en los Datos de Origen**\n",
        "  \n",
        "  ***Sesgo en la Representatividad de los Datos***\n",
        "\n",
        "\n",
        "* Desbalance geográfico: Si hay regiones con menos datos históricos de ventas y devoluciones, el modelo podría no estimar correctamente la demanda en esas áreas.\n",
        "* Efecto de días atípicos: Eventos especiales o circunstancias extraordinarias pueden haber afectado las ventas en ciertos días, generando datos atípicos que sesgan las predicciones.\n",
        "* Variabilidad por canal de distribución: Si algunos canales han tenido fluctuaciones significativas en su desempeño, el modelo podría favorecer ciertos canales con más datos sobre otros con menos información.\n",
        "* Devoluciones: La falta de un registro preciso de las devoluciones, tomando en cuenta que cada día de la semana se reciben devoluciones de diferentes ediciones sin registrar la devolución de la edición lanzada ese mismo día, hacen que el modelo pueda alterar la distribución de ejemplares, sobre o subestimando el valor óptimo de unidades que se devolverán.\n",
        "\n",
        "  ***Sesgo en la Calidad de los Datos***\n",
        "\n",
        "\n",
        "*   Errores en la captura de datos: Valores incorrectos en registros de ventas, devoluciones, promociones o envíos podrían afectar la calidad de las predicciones.\n",
        "* Datos faltantes o incompletos: En ciertos sectores o canales, los datos podrían no estar completamente documentados, lo que podría llevar a asignaciones subóptimas.\n",
        "* Promociones no documentadas: Si en el pasado hubo incentivos de venta que no están reflejados en los datos, podría generar predicciones poco precisas sobre las ventas futuras.\n",
        "\n",
        "2.   **Posibles Sesgos en las Predicciones del Modelo**\n",
        "\n",
        "  El modelo de optimización de distribución utiliza Programación Lineal Entera Mixta (MILP) con PuLP para maximizar las ventas y minimizar las devoluciones. Sin embargo, algunas limitaciones y sesgos podrían influir en los resultados:\n",
        "\n",
        "  ***Suposiciones del Modelo***\n",
        "\n",
        "*   Linealidad de las relaciones: El modelo asume que la relación entre envío, promociones, flete y devoluciones es lineal, lo que podría no capturar efectos no lineales en la demanda.\n",
        "* Dependencia en datos históricos: Si las condiciones del mercado cambian, el modelo podría optimizar basado en tendencias pasadas que ya no reflejan la realidad actual.\n",
        "* Distribución fija de ventas y devoluciones: El modelo asume que la relación entre unidades enviadas y devueltas sigue patrones históricos, lo que podría ser impreciso en condiciones de mercado fluctuantes.\n",
        "\n",
        "  ***Limitaciones en la Optimización***\n",
        "\n",
        "* Restricciones demasiado rígidas: Las restricciones establecidas en promo, flete y envíos pueden limitar el espacio de soluciones, evitando escenarios que podrían mejorar la optimización de ventas.\n",
        "\n",
        "* Asignación de valores mínimos y máximos: La restricción de ciertos valores a un rango fijo basado en datos históricos podría impedir una exploración más flexible de soluciones.\n",
        "\n",
        "* Impacto de la estacionalidad: Si el modelo no captura adecuadamente la variabilidad en la demanda por día de la semana, podría generar distribuciones subóptimas.\n",
        "\n",
        "* Determinación de promo y flete: Si bien las unidades de Promo_Optimizado y Flete_Optimizado están determinadas dentro de un rango mínimo y máximo basado en valores históricos, en la realidad estos valores muchas veces ya están fijados y pueden cambiar diariamente según la configuración y las decisiones operativas sobre cuántas unidades se envían en concepto de flete y promocional (ejemplares gratuitos). Esto podría generar un desajuste entre las soluciones óptimas del modelo y la operativa real de distribución.\n",
        "\n",
        "3. **Mitigación de Sesgos y Mejoras Potenciales**\n",
        "\n",
        "  Para reducir los sesgos y mejorar la efectividad del modelo, se pueden considerar las siguientes estrategias:\n",
        "\n",
        "  ***Mejoras en la Calidad y Representatividad de los Datos***\n",
        "\n",
        "* Revisión y limpieza de datos: Identificar y corregir datos atípicos o valores erróneos en el conjunto de datos de origen.\n",
        "\n",
        "* Uso de datos complementarios: Incorporar información externa sobre eventos especiales, factores económicos o cambios en el comportamiento del consumidor.\n",
        "\n",
        "* Ajuste por canales y regiones: Aplicar pesos diferenciales para zonas con menos datos para evitar una optimización sesgada.\n",
        "\n",
        "  ***Mejoras en la Modelización***\n",
        "\n",
        "* Modelos híbridos: Integrar programación lineal con técnicas de simulación para capturar mejor la incertidumbre en la demanda y las devoluciones.\n",
        "\n",
        "* Revisión de restricciones: Ajustar los rangos de promo, flete y envíos para permitir mayor flexibilidad sin comprometer la estabilidad del modelo.\n",
        "\n",
        "* Mayor integración de restricciones operativas dinámicas: Incorporar reglas de negocio que permitan adaptar la optimización a cambios operativos en tiempo real, particularmente en la asignación de Promo_Optimizado y Flete_Optimizado.\n",
        "\n",
        "\n"
      ],
      "metadata": {
        "id": "ZewEHJhOLm3v"
      }
    }
  ]
}