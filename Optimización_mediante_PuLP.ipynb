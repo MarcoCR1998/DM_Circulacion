{
  "nbformat": 4,
  "nbformat_minor": 0,
  "metadata": {
    "colab": {
      "provenance": [],
      "include_colab_link": true
    },
    "kernelspec": {
      "name": "python3",
      "display_name": "Python 3"
    },
    "language_info": {
      "name": "python"
    }
  },
  "cells": [
    {
      "cell_type": "markdown",
      "metadata": {
        "id": "view-in-github",
        "colab_type": "text"
      },
      "source": [
        "<a href=\"https://colab.research.google.com/github/MarcoCR1998/DM_Circulacion/blob/main/Optimizaci%C3%B3n_mediante_PuLP.ipynb\" target=\"_parent\"><img src=\"https://colab.research.google.com/assets/colab-badge.svg\" alt=\"Open In Colab\"/></a>"
      ]
    },
    {
      "cell_type": "markdown",
      "source": [
        "# **Código de Optimización de Distribución de Ejemplares por Sector - PuLP**"
      ],
      "metadata": {
        "id": "NSDUw14CGvbC"
      }
    },
    {
      "cell_type": "code",
      "source": [
        "!pip install pulp\n",
        "!pip install pulp\n"
      ],
      "metadata": {
        "id": "PwwyOcva3cqR"
      },
      "execution_count": null,
      "outputs": []
    },
    {
      "cell_type": "code",
      "execution_count": null,
      "metadata": {
        "id": "ym9J2GvBGgcE"
      },
      "outputs": [],
      "source": [
        "import pandas as pd\n",
        "from pulp import LpMaximize, LpProblem, LpVariable, lpSum\n",
        "\n",
        "def optimizar_distribucion(ruta_archivo, total_ejemplares_por_dia, pronostico_ventas_por_dia):\n",
        "    try:\n",
        "        # Leer el archivo CSV\n",
        "        df = pd.read_csv(ruta_archivo)\n",
        "\n",
        "        # Crear el problema de optimización\n",
        "        modelo = LpProblem(\"Optimización_Distribución\", LpMaximize)\n",
        "\n",
        "        # Crear variables de decisión para determinar promo, flete y envio_total por municpio y día de la semana\n",
        "        envio_total = { (row.dia_semana, row.idmupiogeo): LpVariable(f\"envio_{row.dia_semana}_{row.idmupiogeo}\", lowBound=row.envio_total, cat='Integer')\n",
        "                        for _, row in df.iterrows() }\n",
        "\n",
        "        promo = { (row.dia_semana, row.idmupiogeo): LpVariable(f\"promo_{row.dia_semana}_{row.idmupiogeo}\", lowBound=0, upBound=15, cat='Integer')\n",
        "                  for _, row in df.iterrows() }\n",
        "\n",
        "        flete = { (row.dia_semana, row.idmupiogeo): LpVariable(f\"flete_{row.dia_semana}_{row.idmupiogeo}\", lowBound=0, upBound=30, cat='Integer')\n",
        "                  for _, row in df.iterrows() }\n",
        "\n",
        "        devuelto_opt = { (row.dia_semana, row.idmupiogeo): LpVariable(f\"devuelto_{row.dia_semana}_{row.idmupiogeo}\", lowBound=0, cat='Integer')\n",
        "                         for _, row in df.iterrows() }\n",
        "\n",
        "        # Calcular un factor de devolución basado en datos históricos\n",
        "        factor_devolucion = { (row.dia_semana, row.idmupiogeo): row.devuelto / row.envio_total if row.envio_total > 0 else 0\n",
        "                              for _, row in df.iterrows() }\n",
        "\n",
        "        # Función objetivo: Maximizar ventas y minimizar devoluciones\n",
        "        modelo += lpSum((envio_total[i] - promo[i] - flete[i] - devuelto_opt[i]) for i in envio_total), \"Maximizar_Ventas\"\n",
        "\n",
        "        # Restricción: No superar el total de ejemplares disponibles a nivel nacional por día\n",
        "        for dia in df[\"dia_semana\"].unique():\n",
        "            modelo += lpSum(envio_total[i] for i in envio_total if i[0] == dia) <= total_ejemplares_por_dia[dia], f\"Restriccion_Total_Disponible_{dia}\"\n",
        "\n",
        "        # Restricción: La sumatoria de unidades vendidas no puede ser mayor al pronóstico de ventas por día\n",
        "        for dia in df[\"dia_semana\"].unique():\n",
        "            modelo += lpSum(envio_total[i] - promo[i] - flete[i] - devuelto_opt[i] for i in envio_total if i[0] == dia) <= pronostico_ventas_por_dia[dia], f\"Restriccion_Pronostico_Ventas_{dia}\"\n",
        "\n",
        "        # Restricción: Asegurar que envio_total sea mayor o igual que vendido\n",
        "        for (dia, municipio) in envio_total:\n",
        "            modelo += envio_total[(dia, municipio)] >= df.set_index(['dia_semana', 'idmupiogeo']).loc[(dia, municipio), 'vendido'], f\"Restriccion_Minimo_Envio_{dia}_{municipio}\"\n",
        "\n",
        "        # Restricción: Evitar valores negativos en Vendido_Optimizado\n",
        "        for (dia, municipio) in envio_total:\n",
        "            modelo += envio_total[(dia, municipio)] - promo[(dia, municipio)] - flete[(dia, municipio)] - devuelto_opt[(dia, municipio)] >= 0, f\"Restriccion_No_Negativo_Ventas_{dia}_{municipio}\"\n",
        "\n",
        "        # Restricción: Ajustar Devuelto_Optimizado basado en Envio_Optimizado\n",
        "        for (dia, municipio) in devuelto_opt:\n",
        "            modelo += devuelto_opt[(dia, municipio)] == envio_total[(dia, municipio)] * factor_devolucion[(dia, municipio)], f\"Restriccion_Devolucion_Segun_Envio_{dia}_{municipio}\"\n",
        "\n",
        "        # Resolver el problema\n",
        "        modelo.solve()\n",
        "\n",
        "        # Guardar los resultados en el DataFrame\n",
        "        df[\"Envio_Optimizado\"] = [envio_total[(row.dia_semana, row.idmupiogeo)].varValue for _, row in df.iterrows()]\n",
        "        df[\"Promo_Optimizado\"] = [promo[(row.dia_semana, row.idmupiogeo)].varValue for _, row in df.iterrows()]\n",
        "        df[\"Flete_Optimizado\"] = [flete[(row.dia_semana, row.idmupiogeo)].varValue for _, row in df.iterrows()]\n",
        "        df[\"Devuelto_Optimizado\"] = [devuelto_opt[(row.dia_semana, row.idmupiogeo)].varValue for _, row in df.iterrows()]\n",
        "        df[\"Vendido_Optimizado\"] = df[\"Envio_Optimizado\"] - df[\"Promo_Optimizado\"] - df[\"Flete_Optimizado\"] - df[\"Devuelto_Optimizado\"]\n",
        "\n",
        "        # Guardar la solución en un CSV\n",
        "        df.to_csv(\"solucion_optimizada_municipio.csv\", index=False)\n",
        "        print(\"Optimización completada. Resultados guardados en 'solucion_optimizada_municipio.csv'\")\n",
        "\n",
        "    except Exception as e:\n",
        "        print(f\"Error al ejecutar la optimización: {e}\")\n",
        "\n",
        "# Ruta del archivo CSV para sectores\n",
        "ruta_csv = \"/content/datos_finales_municipio.csv\"  # Reemplaza con la ruta real\n",
        "\n",
        "# Diccionarios con valores de total de ejemplares y pronóstico por día de la semana\n",
        "total_ejemplares_por_dia = {\n",
        "    \"Lunes\": 75000,\n",
        "    \"Martes\": 75000,\n",
        "    \"Miercoles\": 75000,\n",
        "    \"Jueves\": 75000,\n",
        "    \"Viernes\": 75000,\n",
        "    \"Sabado\": 75000,\n",
        "    \"Domingo\": 75000\n",
        "}\n",
        "\n",
        "pronostico_ventas_por_dia = {\n",
        "    \"Lunes\": 68000,\n",
        "    \"Martes\": 65000,\n",
        "    \"Miercoles\": 61000,\n",
        "    \"Jueves\": 68000,\n",
        "    \"Viernes\": 63000,\n",
        "    \"Sabado\": 63000,\n",
        "    \"Domingo\": 69000\n",
        "}\n",
        "\n",
        "optimizar_distribucion(ruta_csv, total_ejemplares_por_dia, pronostico_ventas_por_dia)"
      ]
    },
    {
      "cell_type": "markdown",
      "source": [
        "**Pipeline: Optimización de ejemplares**"
      ],
      "metadata": {
        "id": "XwFS9I0yGuid"
      }
    },
    {
      "cell_type": "markdown",
      "source": [
        "**Instalación de PuLP**\n",
        "Antes de ejecutar el código, es necesario instalar la librería PuLP, que permite la resolución de problemas de optimización lineal y entera mixta."
      ],
      "metadata": {
        "id": "A9ntWUpqLYce"
      }
    },
    {
      "cell_type": "code",
      "source": [
        "!pip install pulp"
      ],
      "metadata": {
        "id": "EN91Qh0WLd0J"
      },
      "execution_count": null,
      "outputs": []
    },
    {
      "cell_type": "markdown",
      "source": [
        "o con !pip dentro de Jupyter Notebook:"
      ],
      "metadata": {
        "id": "d4dCE9aCLhZ7"
      }
    },
    {
      "cell_type": "code",
      "source": [
        "!pip install pulp"
      ],
      "metadata": {
        "id": "JYzbCrQ2LjnL"
      },
      "execution_count": null,
      "outputs": []
    },
    {
      "cell_type": "markdown",
      "source": [
        "Esto asegurará que la librería esté disponible para su uso en el código."
      ],
      "metadata": {
        "id": "dl8rM1RTLnSb"
      }
    },
    {
      "cell_type": "markdown",
      "source": [
        "**Carga de Datos**"
      ],
      "metadata": {
        "id": "1b3IwXWOHi4I"
      }
    },
    {
      "cell_type": "markdown",
      "source": [
        "Se lee el archivo CSV con los datos de distribución de ejemplares."
      ],
      "metadata": {
        "id": "9zv_sHQXHyMY"
      }
    },
    {
      "cell_type": "code",
      "source": [
        "df = pd.read_csv(ruta_archivo)"
      ],
      "metadata": {
        "id": "Z9kac_ERHur_"
      },
      "execution_count": null,
      "outputs": []
    },
    {
      "cell_type": "markdown",
      "source": [
        "**Definición del Modelo de Optimización**"
      ],
      "metadata": {
        "id": "DQYxltykITd_"
      }
    },
    {
      "cell_type": "code",
      "source": [
        "modelo = LpProblem(\"Optimización_Distribución\", LpMaximize)"
      ],
      "metadata": {
        "id": "vNIWOUrKIXPN"
      },
      "execution_count": null,
      "outputs": []
    },
    {
      "cell_type": "markdown",
      "source": [
        "Se define un modelo de programación lineal con el objetivo de maximizar las ventas (Vendido_Optimizado)."
      ],
      "metadata": {
        "id": "5Ro-0rPJIZOP"
      }
    },
    {
      "cell_type": "markdown",
      "source": [
        "Definición de Variables de Decisión"
      ],
      "metadata": {
        "id": "Miv4H4mjIfsh"
      }
    },
    {
      "cell_type": "code",
      "source": [
        "envio_total = { (row.dia_semana, row.idsector): LpVariable(f\"envio_{row.dia_semana}_{row.idsector}\", lowBound=row.envio_total, cat='Integer')\n",
        "                for _, row in df.iterrows() }"
      ],
      "metadata": {
        "id": "49qmkAn1IiJM"
      },
      "execution_count": null,
      "outputs": []
    },
    {
      "cell_type": "markdown",
      "source": [
        "\n",
        "*   Envio_Optimizado: Cantidad de ejemplares enviados a cada sector por día.\n",
        "*   Promo_Optimizado: Cantidad destinada a promociones (máximo 15 unidades)\n",
        "*   Flete_Optimizado: Cantidad destinada a envíos (máximo 30 unidades).\n",
        "*   Devuelto_Optimizado: Cantidad de ejemplares devueltos (calculada dinámicamente)."
      ],
      "metadata": {
        "id": "x0W_Y2hCIj92"
      }
    },
    {
      "cell_type": "markdown",
      "source": [
        "**Cálculo del Factor de Devolución**"
      ],
      "metadata": {
        "id": "GodscXPZI4nk"
      }
    },
    {
      "cell_type": "code",
      "source": [
        "factor_devolucion = { (row.dia_semana, row.idsector): row.devuelto / row.envio_total if row.envio_total > 0 else 0\n",
        "                      for _, row in df.iterrows() }"
      ],
      "metadata": {
        "id": "n4AjcpbxI62s"
      },
      "execution_count": null,
      "outputs": []
    },
    {
      "cell_type": "markdown",
      "source": [
        "Se calcula una tasa histórica de devolución para cada sector y día."
      ],
      "metadata": {
        "id": "IqwwrXy-I9j8"
      }
    },
    {
      "cell_type": "markdown",
      "source": [
        "**Función Objetivo: Maximizar Ventas**"
      ],
      "metadata": {
        "id": "yNSYnxAXI_ar"
      }
    },
    {
      "cell_type": "code",
      "source": [
        "modelo += lpSum((envio_total[i] - promo[i] - flete[i] - devuelto_opt[i]) for i in envio_total), \"Maximizar_Ventas\""
      ],
      "metadata": {
        "id": "zYeF2OXxJAmt"
      },
      "execution_count": null,
      "outputs": []
    },
    {
      "cell_type": "markdown",
      "source": [
        "Maximiza la cantidad de unidades vendidas (Vendido_Optimizado), tomando en cuenta las devoluciones, las promociones y los costos de flete."
      ],
      "metadata": {
        "id": "HoXjspkvJF1v"
      }
    },
    {
      "cell_type": "markdown",
      "source": [
        "**Restricciones del Modelo**"
      ],
      "metadata": {
        "id": "VybFq14XJNCI"
      }
    },
    {
      "cell_type": "code",
      "source": [
        "# No superar el total de ejemplares disponibles por día\n",
        "for dia in df[\"dia_semana\"].unique():\n",
        "    modelo += lpSum(envio_total[i] for i in envio_total if i[0] == dia) <= total_ejemplares_por_dia[dia], f\"Restriccion_Total_Disponible_{dia}\""
      ],
      "metadata": {
        "id": "zpMupXcMJPaq"
      },
      "execution_count": null,
      "outputs": []
    },
    {
      "cell_type": "markdown",
      "source": [
        "Se asegura que la cantidad de envíos no supere la capacidad máxima de producción diaria."
      ],
      "metadata": {
        "id": "1t43yFKhJRh7"
      }
    },
    {
      "cell_type": "code",
      "source": [
        "# La sumatoria de unidades vendidas no puede superar el pronóstico diario\n",
        "for dia in df[\"dia_semana\"].unique():\n",
        "    modelo += lpSum(envio_total[i] - promo[i] - flete[i] - devuelto_opt[i] for i in envio_total if i[0] == dia) <= pronostico_ventas_por_dia[dia], f\"Restriccion_Pronostico_Ventas_{dia}\""
      ],
      "metadata": {
        "id": "NELi8-KsJUpa"
      },
      "execution_count": null,
      "outputs": []
    },
    {
      "cell_type": "markdown",
      "source": [
        "Asegura que las ventas no sobrepasen el pronóstico de demanda diario."
      ],
      "metadata": {
        "id": "G1AkkiK0Jarc"
      }
    },
    {
      "cell_type": "code",
      "source": [
        "# La cantidad enviada debe ser al menos igual a la cantidad vendida históricamente\n",
        "for (dia, sector) in envio_total:\n",
        "    modelo += envio_total[(dia, sector)] >= df.set_index(['dia_semana', 'idsector']).loc[(dia, sector), 'vendido'], f\"Restriccion_Minimo_Envio_{dia}_{sector}\""
      ],
      "metadata": {
        "id": "6CezMJ4bJdw8"
      },
      "execution_count": null,
      "outputs": []
    },
    {
      "cell_type": "markdown",
      "source": [
        "Evita que Envio_Optimizado sea menor que la cantidad vendida históricamente."
      ],
      "metadata": {
        "id": "tM8HwGqPJgNi"
      }
    },
    {
      "cell_type": "code",
      "source": [
        "# Evitar valores negativos en la cantidad vendida\n",
        "for (dia, sector) in envio_total:\n",
        "    modelo += envio_total[(dia, sector)] - promo[(dia, sector)] - flete[(dia, sector)] - devuelto_opt[(dia, sector)] >= 0, f\"Restriccion_No_Negativo_Ventas_{dia}_{sector}\""
      ],
      "metadata": {
        "id": "ysCWPd2SJjSL"
      },
      "execution_count": null,
      "outputs": []
    },
    {
      "cell_type": "markdown",
      "source": [
        "Asegura que Vendido_Optimizado nunca sea negativo."
      ],
      "metadata": {
        "id": "ifjohYuLJnSP"
      }
    },
    {
      "cell_type": "code",
      "source": [
        "# Ajustar la cantidad de devoluciones en función de la cantidad enviada\n",
        "for (dia, sector) in devuelto_opt:\n",
        "    modelo += devuelto_opt[(dia, sector)] == envio_total[(dia, sector)] * factor_devolucion[(dia, sector)], f\"Restriccion_Devolucion_Segun_Envio_{dia}_{sector}\""
      ],
      "metadata": {
        "id": "C7U0_bdMJoXI"
      },
      "execution_count": null,
      "outputs": []
    },
    {
      "cell_type": "markdown",
      "source": [
        "Calcula Devuelto_Optimizado como un porcentaje dinámico de Envio_Optimizado."
      ],
      "metadata": {
        "id": "Ic6YthdOJrWY"
      }
    },
    {
      "cell_type": "markdown",
      "source": [
        "**Resolviendo el Problema**"
      ],
      "metadata": {
        "id": "MOD3q18fJsyX"
      }
    },
    {
      "cell_type": "code",
      "source": [
        "modelo.solve()"
      ],
      "metadata": {
        "id": "xv3KHGoFJv5_"
      },
      "execution_count": null,
      "outputs": []
    },
    {
      "cell_type": "markdown",
      "source": [
        "Se ejecuta el solver de PuLP para encontrar la mejor solución."
      ],
      "metadata": {
        "id": "KY20VPCXJ1oy"
      }
    },
    {
      "cell_type": "markdown",
      "source": [
        "**Guardando los Resultados**"
      ],
      "metadata": {
        "id": "eZGb4bsvJ3E4"
      }
    },
    {
      "cell_type": "code",
      "source": [
        "df[\"Envio_Optimizado\"] = [envio_total[(row.dia_semana, row.idsector)].varValue for _, row in df.iterrows()]\n",
        "df[\"Promo_Optimizado\"] = [promo[(row.dia_semana, row.idsector)].varValue for _, row in df.iterrows()]\n",
        "df[\"Flete_Optimizado\"] = [flete[(row.dia_semana, row.idsector)].varValue for _, row in df.iterrows()]\n",
        "df[\"Devuelto_Optimizado\"] = [devuelto_opt[(row.dia_semana, row.idsector)].varValue for _, row in df.iterrows()]\n",
        "df[\"Vendido_Optimizado\"] = df[\"Envio_Optimizado\"] - df[\"Promo_Optimizado\"] - df[\"Flete_Optimizado\"] - df[\"Devuelto_Optimizado\"]"
      ],
      "metadata": {
        "id": "ZTkPHxQuJ42m"
      },
      "execution_count": null,
      "outputs": []
    },
    {
      "cell_type": "markdown",
      "source": [
        "Se almacenan los valores optimizados en el dataframe."
      ],
      "metadata": {
        "id": "qoeBy3sGJ8hY"
      }
    },
    {
      "cell_type": "code",
      "source": [
        "df.to_csv(\"solucion_optimizada_sectores.csv\", index=False)"
      ],
      "metadata": {
        "id": "frv8X_cQJ-as"
      },
      "execution_count": null,
      "outputs": []
    },
    {
      "cell_type": "markdown",
      "source": [
        "Los resultados se guardan en un archivo CSV para su análisis posterior."
      ],
      "metadata": {
        "id": "fjKQ33jcKFtd"
      }
    },
    {
      "cell_type": "markdown",
      "source": [
        "R**esumen del Pipeline**\n",
        "\n",
        "1. Se cargan los datos históricos de distribución y ventas.\n",
        "2. Se definen las variables de decisión (Envio_Optimizado, Promo_Optimizado, Flete_Optimizado, Devuelto_Optimizado).\n",
        "3. Se establece la función objetivo para maximizar Vendido_Optimizado y minimizar Devuelto_Optimizado.\n",
        "4. Se aplican restricciones de capacidad, demanda y valores mínimos.\n",
        "5. El modelo se resuelve utilizando PuLP y los resultados se almacenan en un CSV."
      ],
      "metadata": {
        "id": "qTm9QxL5KGm6"
      }
    },
    {
      "cell_type": "markdown",
      "source": [
        "# **Código de Optimización de Distribución de Ejemplares por Municipio - PuLP**"
      ],
      "metadata": {
        "id": "4RpcKusyFzZF"
      }
    },
    {
      "cell_type": "code",
      "source": [
        "!pip install pulp\n",
        "!pip install pulp\n"
      ],
      "metadata": {
        "id": "tEGq99xPF0-j"
      },
      "execution_count": null,
      "outputs": []
    },
    {
      "cell_type": "code",
      "source": [
        "import pandas as pd\n",
        "from pulp import LpMaximize, LpProblem, LpVariable, lpSum\n",
        "\n",
        "def optimizar_distribucion(ruta_archivo, total_ejemplares_por_dia, pronostico_ventas_por_dia):\n",
        "    try:\n",
        "        # Leer el archivo CSV\n",
        "        df = pd.read_csv(ruta_archivo)\n",
        "\n",
        "        # Crear el problema de optimización\n",
        "        modelo = LpProblem(\"Optimización_Distribución\", LpMaximize)\n",
        "\n",
        "        # Crear variables de decisión para determinar promo, flete y envio_total por municpio y día de la semana\n",
        "        envio_total = { (row.dia_semana, row.idmupiogeo): LpVariable(f\"envio_{row.dia_semana}_{row.idmupiogeo}\", lowBound=row.envio_total, cat='Integer')\n",
        "                        for _, row in df.iterrows() }\n",
        "\n",
        "        promo = { (row.dia_semana, row.idmupiogeo): LpVariable(f\"promo_{row.dia_semana}_{row.idmupiogeo}\", lowBound=0, upBound=154, cat='Integer')\n",
        "                  for _, row in df.iterrows() }\n",
        "\n",
        "        flete = { (row.dia_semana, row.idmupiogeo): LpVariable(f\"flete_{row.dia_semana}_{row.idmupiogeo}\", lowBound=0, upBound=1324, cat='Integer')\n",
        "                  for _, row in df.iterrows() }\n",
        "\n",
        "        devuelto_opt = { (row.dia_semana, row.idmupiogeo): LpVariable(f\"devuelto_{row.dia_semana}_{row.idmupiogeo}\", lowBound=0, cat='Integer')\n",
        "                         for _, row in df.iterrows() }\n",
        "\n",
        "        # Calcular un factor de devolución basado en datos históricos\n",
        "        factor_devolucion = { (row.dia_semana, row.idmupiogeo): row.devuelto / row.envio_total if row.envio_total > 0 else 0\n",
        "                              for _, row in df.iterrows() }\n",
        "\n",
        "        # Función objetivo: Maximizar ventas y minimizar devoluciones\n",
        "        modelo += lpSum((envio_total[i] - promo[i] - flete[i] - devuelto_opt[i]) for i in envio_total), \"Maximizar_Ventas\"\n",
        "\n",
        "        # Restricción: No superar el total de ejemplares disponibles a nivel nacional por día\n",
        "        for dia in df[\"dia_semana\"].unique():\n",
        "            modelo += lpSum(envio_total[i] for i in envio_total if i[0] == dia) <= total_ejemplares_por_dia[dia], f\"Restriccion_Total_Disponible_{dia}\"\n",
        "\n",
        "        # Restricción: La sumatoria de unidades vendidas no puede ser mayor al pronóstico de ventas por día\n",
        "        for dia in df[\"dia_semana\"].unique():\n",
        "            modelo += lpSum(envio_total[i] - promo[i] - flete[i] - devuelto_opt[i] for i in envio_total if i[0] == dia) <= pronostico_ventas_por_dia[dia], f\"Restriccion_Pronostico_Ventas_{dia}\"\n",
        "\n",
        "        # Restricción: Asegurar que envio_total sea mayor o igual que vendido\n",
        "        for (dia, municipio) in envio_total:\n",
        "            modelo += envio_total[(dia, municipio)] >= df.set_index(['dia_semana', 'idmupiogeo']).loc[(dia, municipio), 'vendido'], f\"Restriccion_Minimo_Envio_{dia}_{municipio}\"\n",
        "\n",
        "        # Restricción: Evitar valores negativos en Vendido_Optimizado\n",
        "        for (dia, municipio) in envio_total:\n",
        "            modelo += envio_total[(dia, municipio)] - promo[(dia, municipio)] - flete[(dia, municipio)] - devuelto_opt[(dia, municipio)] >= 0, f\"Restriccion_No_Negativo_Ventas_{dia}_{municipio}\"\n",
        "\n",
        "        # Restricción: Ajustar Devuelto_Optimizado basado en Envio_Optimizado\n",
        "        for (dia, municipio) in devuelto_opt:\n",
        "            modelo += devuelto_opt[(dia, municipio)] == envio_total[(dia, municipio)] * factor_devolucion[(dia, municipio)], f\"Restriccion_Devolucion_Segun_Envio_{dia}_{municipio}\"\n",
        "\n",
        "        # Resolver el problema\n",
        "        modelo.solve()\n",
        "\n",
        "        # Guardar los resultados en el DataFrame\n",
        "        df[\"Envio_Optimizado\"] = [envio_total[(row.dia_semana, row.idmupiogeo)].varValue for _, row in df.iterrows()]\n",
        "        df[\"Promo_Optimizado\"] = [promo[(row.dia_semana, row.idmupiogeo)].varValue for _, row in df.iterrows()]\n",
        "        df[\"Flete_Optimizado\"] = [flete[(row.dia_semana, row.idmupiogeo)].varValue for _, row in df.iterrows()]\n",
        "        df[\"Devuelto_Optimizado\"] = [devuelto_opt[(row.dia_semana, row.idmupiogeo)].varValue for _, row in df.iterrows()]\n",
        "        df[\"Vendido_Optimizado\"] = df[\"Envio_Optimizado\"] - df[\"Promo_Optimizado\"] - df[\"Flete_Optimizado\"] - df[\"Devuelto_Optimizado\"]\n",
        "\n",
        "        # Guardar la solución en un CSV\n",
        "        df.to_csv(\"solucion_optimizada_municipio.csv\", index=False)\n",
        "        print(\"Optimización completada. Resultados guardados en 'solucion_optimizada_municipio.csv'\")\n",
        "\n",
        "    except Exception as e:\n",
        "        print(f\"Error al ejecutar la optimización: {e}\")\n",
        "\n",
        "# Ruta del archivo CSV para sectores\n",
        "ruta_csv = \"/content/datos_finales_municipio.csv\"  # Reemplaza con la ruta real\n",
        "\n",
        "# Diccionarios con valores de total de ejemplares y pronóstico por día de la semana\n",
        "total_ejemplares_por_dia = {\n",
        "    \"Lunes\": 75000,\n",
        "    \"Martes\": 75000,\n",
        "    \"Miercoles\": 75000,\n",
        "    \"Jueves\": 75000,\n",
        "    \"Viernes\": 75000,\n",
        "    \"Sabado\": 75000,\n",
        "    \"Domingo\": 75000\n",
        "}\n",
        "\n",
        "pronostico_ventas_por_dia = {\n",
        "    \"Lunes\": 68000,\n",
        "    \"Martes\": 65000,\n",
        "    \"Miercoles\": 61000,\n",
        "    \"Jueves\": 68000,\n",
        "    \"Viernes\": 63000,\n",
        "    \"Sabado\": 63000,\n",
        "    \"Domingo\": 69000\n",
        "}\n",
        "\n",
        "optimizar_distribucion(ruta_csv, total_ejemplares_por_dia, pronostico_ventas_por_dia)"
      ],
      "metadata": {
        "id": "UXmkpIrdGBDE"
      },
      "execution_count": null,
      "outputs": []
    },
    {
      "cell_type": "markdown",
      "source": [
        "________________________________________________________________________________________________________________________________________________________________"
      ],
      "metadata": {
        "id": "Aj9eupKkGDzI"
      }
    },
    {
      "cell_type": "markdown",
      "source": [
        "# **Código de Optimización de Distribución de Ejemplares por Regional - PuLP**"
      ],
      "metadata": {
        "id": "n14YhbxKFdU9"
      }
    },
    {
      "cell_type": "code",
      "source": [
        "!pip install pulp\n",
        "!pip install pulp"
      ],
      "metadata": {
        "colab": {
          "base_uri": "https://localhost:8080/"
        },
        "id": "bUEfywfOFkOB",
        "outputId": "8b14dcc3-2978-40ce-c889-2d84dad34e1f"
      },
      "execution_count": 6,
      "outputs": [
        {
          "output_type": "stream",
          "name": "stdout",
          "text": [
            "Requirement already satisfied: pulp in /usr/local/lib/python3.11/dist-packages (3.0.2)\n",
            "Requirement already satisfied: pulp in /usr/local/lib/python3.11/dist-packages (3.0.2)\n"
          ]
        }
      ]
    },
    {
      "cell_type": "code",
      "source": [
        "import pandas as pd\n",
        "from pulp import LpMaximize, LpProblem, LpVariable, lpSum\n",
        "\n",
        "def optimizar_distribucion(ruta_archivo, total_ejemplares_por_dia, pronostico_ventas_por_dia):\n",
        "    try:\n",
        "        # Leer el archivo CSV\n",
        "        df = pd.read_csv(ruta_archivo)\n",
        "\n",
        "        # Crear el problema de optimización\n",
        "        modelo = LpProblem(\"Optimización_Distribución\", LpMaximize)\n",
        "\n",
        "        # Crear variables de decisión para determinar promo, flete y envio_total por regional y día de la semana\n",
        "        envio_total = { (row.dia_semana, row.idregional): LpVariable(f\"envio_{row.dia_semana}_{row.idregional}\", lowBound=row.envio_total, cat='Integer')\n",
        "                        for _, row in df.iterrows() }\n",
        "\n",
        "        promo = { (row.dia_semana, row.idregional): LpVariable(f\"promo_{row.dia_semana}_{row.idregional}\", lowBound=0, upBound=185, cat='Integer')\n",
        "                  for _, row in df.iterrows() }\n",
        "\n",
        "        flete = { (row.dia_semana, row.idregional): LpVariable(f\"flete_{row.dia_semana}_{row.idregional}\", lowBound=0, upBound=2088, cat='Integer')\n",
        "                  for _, row in df.iterrows() }\n",
        "\n",
        "        devuelto_opt = { (row.dia_semana, row.idregional): LpVariable(f\"devuelto_{row.dia_semana}_{row.idregional}\", lowBound=0, cat='Integer')\n",
        "                         for _, row in df.iterrows() }\n",
        "\n",
        "        # Calcular un factor de devolución basado en datos históricos\n",
        "        factor_devolucion = { (row.dia_semana, row.idregional): row.devuelto / row.envio_total if row.envio_total > 0 else 0\n",
        "                              for _, row in df.iterrows() }\n",
        "\n",
        "        # Función objetivo: Maximizar ventas y minimizar devoluciones\n",
        "        modelo += lpSum((envio_total[i] - promo[i] - flete[i] - devuelto_opt[i]) for i in envio_total), \"Maximizar_Ventas\"\n",
        "\n",
        "        # Restricción: No superar el total de ejemplares disponibles a nivel nacional por día\n",
        "        for dia in df[\"dia_semana\"].unique():\n",
        "            modelo += lpSum(envio_total[i] for i in envio_total if i[0] == dia) <= total_ejemplares_por_dia[dia], f\"Restriccion_Total_Disponible_{dia}\"\n",
        "\n",
        "        # Restricción: La sumatoria de unidades vendidas no puede ser mayor al pronóstico de ventas por día\n",
        "        for dia in df[\"dia_semana\"].unique():\n",
        "            modelo += lpSum(envio_total[i] - promo[i] - flete[i] - devuelto_opt[i] for i in envio_total if i[0] == dia) <= pronostico_ventas_por_dia[dia], f\"Restriccion_Pronostico_Ventas_{dia}\"\n",
        "\n",
        "        # Restricción: Asegurar que envio_total sea mayor o igual que vendido\n",
        "        for (dia, regional) in envio_total:\n",
        "            modelo += envio_total[(dia, regional)] >= df.set_index(['dia_semana', 'idregional']).loc[(dia, regional), 'vendido'], f\"Restriccion_Minimo_Envio_{dia}_{regional}\"\n",
        "\n",
        "        # Restricción: Evitar valores negativos en Vendido_Optimizado\n",
        "        for (dia, regional) in envio_total:\n",
        "            modelo += envio_total[(dia, regional)] - promo[(dia, regional)] - flete[(dia, regional)] - devuelto_opt[(dia, regional)] >= 0, f\"Restriccion_No_Negativo_Ventas_{dia}_{regional}\"\n",
        "\n",
        "        # Restricción: Ajustar Devuelto_Optimizado basado en Envio_Optimizado\n",
        "        for (dia, regional) in devuelto_opt:\n",
        "            modelo += devuelto_opt[(dia, regional)] == envio_total[(dia, regional)] * factor_devolucion[(dia, regional)], f\"Restriccion_Devolucion_Segun_Envio_{dia}_{regional}\"\n",
        "\n",
        "        # Resolver el problema\n",
        "        modelo.solve()\n",
        "\n",
        "        # Guardar los resultados en el DataFrame\n",
        "        df[\"Envio_Optimizado\"] = [envio_total[(row.dia_semana, row.idregional)].varValue for _, row in df.iterrows()]\n",
        "        df[\"Promo_Optimizado\"] = [promo[(row.dia_semana, row.idregional)].varValue for _, row in df.iterrows()]\n",
        "        df[\"Flete_Optimizado\"] = [flete[(row.dia_semana, row.idregional)].varValue for _, row in df.iterrows()]\n",
        "        df[\"Devuelto_Optimizado\"] = [devuelto_opt[(row.dia_semana, row.idregional)].varValue for _, row in df.iterrows()]\n",
        "        df[\"Vendido_Optimizado\"] = df[\"Envio_Optimizado\"] - df[\"Promo_Optimizado\"] - df[\"Flete_Optimizado\"] - df[\"Devuelto_Optimizado\"]\n",
        "\n",
        "        # Guardar la solución en un CSV\n",
        "        df.to_csv(\"solucion_optimizada_regional.csv\", index=False)\n",
        "        print(\"Optimización completada. Resultados guardados en 'solucion_optimizada_regional.csv'\")\n",
        "\n",
        "    except Exception as e:\n",
        "        print(f\"Error al ejecutar la optimización: {e}\")\n",
        "\n",
        "# Ruta del archivo CSV para sectores\n",
        "ruta_csv = \"/content/datos_finales_regional.csv\"  # Reemplaza con la ruta real\n",
        "\n",
        "# Diccionarios con valores de total de ejemplares y pronóstico por día de la semana\n",
        "total_ejemplares_por_dia = {\n",
        "    \"Lunes\": 75000,\n",
        "    \"Martes\": 75000,\n",
        "    \"Miercoles\": 75000,\n",
        "    \"Jueves\": 75000,\n",
        "    \"Viernes\": 75000,\n",
        "    \"Sabado\": 75000,\n",
        "    \"Domingo\": 75000\n",
        "}\n",
        "\n",
        "pronostico_ventas_por_dia = {\n",
        "    \"Lunes\": 68000,\n",
        "    \"Martes\": 65000,\n",
        "    \"Miercoles\": 61000,\n",
        "    \"Jueves\": 68000,\n",
        "    \"Viernes\": 63000,\n",
        "    \"Sabado\": 63000,\n",
        "    \"Domingo\": 69000\n",
        "}\n",
        "\n",
        "optimizar_distribucion(ruta_csv, total_ejemplares_por_dia, pronostico_ventas_por_dia)"
      ],
      "metadata": {
        "colab": {
          "base_uri": "https://localhost:8080/"
        },
        "id": "7lXvZFH2FnMO",
        "outputId": "38ff6bb9-e5a5-44ea-dd0b-22c7d0299a56"
      },
      "execution_count": 7,
      "outputs": [
        {
          "output_type": "stream",
          "name": "stdout",
          "text": [
            "Optimización completada. Resultados guardados en 'solucion_optimizada_regional.csv'\n"
          ]
        }
      ]
    },
    {
      "cell_type": "markdown",
      "source": [
        "________________________________________________________________________________________________________________________________________________________________"
      ],
      "metadata": {
        "id": "jAOr3PQMGTwi"
      }
    }
  ]
}